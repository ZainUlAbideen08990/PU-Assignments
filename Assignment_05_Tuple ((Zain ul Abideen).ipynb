{
 "cells": [
  {
   "cell_type": "markdown",
   "id": "1488806a",
   "metadata": {},
   "source": [
    "### Assignment-05 (Tuple)\n",
    "- Change the notebook name with your name and Roll Number.\n",
    "- Try this as your own, no chatgpt (it's for your learning)\n",
    "- after completing the assignment, submit this book on google class room."
   ]
  },
  {
   "cell_type": "markdown",
   "id": "0f49daa5",
   "metadata": {},
   "source": [
    "    Create an empty tuple and print it.\n",
    "        "
   ]
  },
  {
   "cell_type": "code",
   "id": "9f34fb22",
   "metadata": {
    "ExecuteTime": {
     "end_time": "2025-03-01T16:40:36.927655Z",
     "start_time": "2025-03-01T16:40:36.913887Z"
    }
   },
   "source": [
    "empty_tuple = ()\n",
    "print(empty_tuple)"
   ],
   "outputs": [
    {
     "name": "stdout",
     "output_type": "stream",
     "text": [
      "()\n"
     ]
    }
   ],
   "execution_count": 1
  },
  {
   "cell_type": "markdown",
   "id": "e043fa87",
   "metadata": {},
   "source": "Create a tuple of your favorite fruits and print it.\n"
  },
  {
   "cell_type": "code",
   "id": "a8075e3e",
   "metadata": {
    "ExecuteTime": {
     "end_time": "2025-03-01T16:40:37.283810Z",
     "start_time": "2025-03-01T16:40:37.274594Z"
    }
   },
   "source": [
    "colors = ('purple','yellow','green','black')\n",
    "print(colors)"
   ],
   "outputs": [
    {
     "name": "stdout",
     "output_type": "stream",
     "text": [
      "('purple', 'yellow', 'green', 'black')\n"
     ]
    }
   ],
   "execution_count": 2
  },
  {
   "cell_type": "markdown",
   "id": "63103aae",
   "metadata": {},
   "source": [
    "    Create a tuple that includes a mix of data types (integers, strings, floats).\n",
    "  "
   ]
  },
  {
   "cell_type": "code",
   "id": "02d21498",
   "metadata": {
    "ExecuteTime": {
     "end_time": "2025-03-01T16:40:45.210052Z",
     "start_time": "2025-03-01T16:40:45.192286Z"
    }
   },
   "source": [
    "mix = (8,6.5,4,6,7.1,'zain')\n",
    "print(mix)"
   ],
   "outputs": [
    {
     "name": "stdout",
     "output_type": "stream",
     "text": [
      "(8, 6.5, 4, 6, 7.1, 'zain')\n"
     ]
    }
   ],
   "execution_count": 3
  },
  {
   "cell_type": "markdown",
   "id": "704e22bb",
   "metadata": {},
   "source": [
    "  Access the first element of a tuple.\n"
   ]
  },
  {
   "cell_type": "code",
   "id": "bf90e463",
   "metadata": {
    "ExecuteTime": {
     "end_time": "2025-03-01T16:40:48.078916Z",
     "start_time": "2025-03-01T16:40:48.065782Z"
    }
   },
   "source": "print(mix[0])",
   "outputs": [
    {
     "name": "stdout",
     "output_type": "stream",
     "text": [
      "8\n"
     ]
    }
   ],
   "execution_count": 4
  },
  {
   "cell_type": "markdown",
   "id": "26563419",
   "metadata": {},
   "source": [
    "    Access the last element of a tuple."
   ]
  },
  {
   "cell_type": "code",
   "id": "54b98b3a",
   "metadata": {
    "ExecuteTime": {
     "end_time": "2025-03-01T16:40:50.579403Z",
     "start_time": "2025-03-01T16:40:50.563856Z"
    }
   },
   "source": "print(mix[-1])",
   "outputs": [
    {
     "name": "stdout",
     "output_type": "stream",
     "text": [
      "zain\n"
     ]
    }
   ],
   "execution_count": 5
  },
  {
   "cell_type": "markdown",
   "id": "15d49e96",
   "metadata": {},
   "source": [
    "Access the second and third elements of a tuple.\n"
   ]
  },
  {
   "cell_type": "code",
   "id": "1b8f2886",
   "metadata": {
    "ExecuteTime": {
     "end_time": "2025-03-01T16:40:58.228439Z",
     "start_time": "2025-03-01T16:40:58.213328Z"
    }
   },
   "source": "print(mix[1:3])",
   "outputs": [
    {
     "name": "stdout",
     "output_type": "stream",
     "text": [
      "(6.5, 4)\n"
     ]
    }
   ],
   "execution_count": 6
  },
  {
   "cell_type": "markdown",
   "id": "069741b2",
   "metadata": {},
   "source": [
    "\n",
    "    Slice a tuple to extract the first three elements.\n",
    "    "
   ]
  },
  {
   "cell_type": "code",
   "id": "ba3f17f2",
   "metadata": {
    "ExecuteTime": {
     "end_time": "2025-03-01T16:41:04.010477Z",
     "start_time": "2025-03-01T16:41:03.995167Z"
    }
   },
   "source": [
    "n_t = mix[0:3]\n",
    "print(n_t)"
   ],
   "outputs": [
    {
     "name": "stdout",
     "output_type": "stream",
     "text": [
      "(8, 6.5, 4)\n"
     ]
    }
   ],
   "execution_count": 7
  },
  {
   "cell_type": "markdown",
   "id": "f5f8af36",
   "metadata": {},
   "source": [
    "Slice a tuple to extract the last three elements.\n",
    " "
   ]
  },
  {
   "cell_type": "code",
   "id": "72b61419",
   "metadata": {
    "ExecuteTime": {
     "end_time": "2025-03-01T16:41:07.327249Z",
     "start_time": "2025-03-01T16:41:07.313909Z"
    }
   },
   "source": [
    "n_t2 =mix[-3:]\n",
    "print(n_t2)"
   ],
   "outputs": [
    {
     "name": "stdout",
     "output_type": "stream",
     "text": [
      "(6, 7.1, 'zain')\n"
     ]
    }
   ],
   "execution_count": 8
  },
  {
   "cell_type": "markdown",
   "id": "fbf3a8e6",
   "metadata": {},
   "source": [
    "   Slice a tuple to get every second element.\n"
   ]
  },
  {
   "cell_type": "code",
   "id": "2f28222b",
   "metadata": {
    "ExecuteTime": {
     "end_time": "2025-03-01T16:41:20.684395Z",
     "start_time": "2025-03-01T16:41:20.675788Z"
    }
   },
   "source": [
    "stp_t = mix[::2]\n",
    "print(stp_t)"
   ],
   "outputs": [
    {
     "name": "stdout",
     "output_type": "stream",
     "text": [
      "(8, 4, 7.1)\n"
     ]
    }
   ],
   "execution_count": 9
  },
  {
   "cell_type": "markdown",
   "id": "972a3d7e",
   "metadata": {},
   "source": [
    "    Reverse a tuple using slicing."
   ]
  },
  {
   "cell_type": "code",
   "id": "a0c026b2",
   "metadata": {
    "ExecuteTime": {
     "end_time": "2025-03-01T16:41:24.248042Z",
     "start_time": "2025-03-01T16:41:24.231865Z"
    }
   },
   "source": [
    "rev_stp_t = mix[::-1]\n",
    "print(rev_stp_t)"
   ],
   "outputs": [
    {
     "name": "stdout",
     "output_type": "stream",
     "text": [
      "('zain', 7.1, 6, 4, 6.5, 8)\n"
     ]
    }
   ],
   "execution_count": 10
  },
  {
   "cell_type": "markdown",
   "id": "ff819f8c",
   "metadata": {},
   "source": [
    "Create two tuples and concatenate them.\n",
    "\n"
   ]
  },
  {
   "cell_type": "code",
   "id": "34bb1253",
   "metadata": {
    "ExecuteTime": {
     "end_time": "2025-03-01T16:41:27.255878Z",
     "start_time": "2025-03-01T16:41:27.241790Z"
    }
   },
   "source": [
    "t1 = (1,2,3,4)\n",
    "t2 = (5,6,7,'zain')\n",
    "print(t1 + t2)"
   ],
   "outputs": [
    {
     "name": "stdout",
     "output_type": "stream",
     "text": [
      "(1, 2, 3, 4, 5, 6, 7, 'zain')\n"
     ]
    }
   ],
   "execution_count": 11
  },
  {
   "cell_type": "markdown",
   "id": "6f81c447",
   "metadata": {},
   "source": [
    "    Repeat a tuple multiple times using the repetition operator."
   ]
  },
  {
   "cell_type": "code",
   "id": "a7993e54",
   "metadata": {
    "ExecuteTime": {
     "end_time": "2025-03-01T16:41:30.522087Z",
     "start_time": "2025-03-01T16:41:30.507960Z"
    }
   },
   "source": [
    "rep_t = t1 * 5\n",
    "print(rep_t)"
   ],
   "outputs": [
    {
     "name": "stdout",
     "output_type": "stream",
     "text": [
      "(1, 2, 3, 4, 1, 2, 3, 4, 1, 2, 3, 4, 1, 2, 3, 4, 1, 2, 3, 4)\n"
     ]
    }
   ],
   "execution_count": 12
  },
  {
   "cell_type": "markdown",
   "id": "e39bdb1d",
   "metadata": {},
   "source": [
    "Find the index of a specific element in a tuple using the index() method."
   ]
  },
  {
   "cell_type": "code",
   "id": "d0887521",
   "metadata": {
    "ExecuteTime": {
     "end_time": "2025-03-01T16:42:37.197537Z",
     "start_time": "2025-03-01T16:42:37.188774Z"
    }
   },
   "source": [
    "# t1 = (1,2,3,4)\n",
    "print(t1.index(3))\n",
    "print(t1.index(4))"
   ],
   "outputs": [
    {
     "name": "stdout",
     "output_type": "stream",
     "text": [
      "2\n",
      "3\n"
     ]
    }
   ],
   "execution_count": 15
  },
  {
   "cell_type": "markdown",
   "id": "fc66ca7e",
   "metadata": {},
   "source": [
    "    Count the number of occurrences of a specific element in a tuple using the count() method."
   ]
  },
  {
   "cell_type": "code",
   "id": "d9bf2831",
   "metadata": {
    "ExecuteTime": {
     "end_time": "2025-03-01T16:43:03.151277Z",
     "start_time": "2025-03-01T16:43:03.137972Z"
    }
   },
   "source": [
    "# rep_t = (1, 2, 3, 4, 1, 2, 3, 4, 1, 2, 3, 4, 1, 2, 3, 4, 1, 2, 3, 4)\n",
    "print(rep_t.count(2))"
   ],
   "outputs": [
    {
     "name": "stdout",
     "output_type": "stream",
     "text": [
      "5\n"
     ]
    }
   ],
   "execution_count": 16
  },
  {
   "cell_type": "markdown",
   "id": "9bdef970",
   "metadata": {},
   "source": [
    "Sort a tuple of numbers in ascending order.\n",
    "\n"
   ]
  },
  {
   "cell_type": "code",
   "id": "326fca51",
   "metadata": {
    "ExecuteTime": {
     "end_time": "2025-03-01T16:43:11.028568Z",
     "start_time": "2025-03-01T16:43:11.014039Z"
    }
   },
   "source": [
    "# l1 = list(rep_t)\n",
    "# l1.sort()\n",
    "# sorted_rep_t = tuple(l1)\n",
    "# print(sorted_rep_t)\n",
    "\n",
    "sorted_rep_t = tuple(sorted(rep_t))\n",
    "print(sorted_rep_t)"
   ],
   "outputs": [
    {
     "name": "stdout",
     "output_type": "stream",
     "text": [
      "(1, 1, 1, 1, 1, 2, 2, 2, 2, 2, 3, 3, 3, 3, 3, 4, 4, 4, 4, 4)\n"
     ]
    }
   ],
   "execution_count": 17
  },
  {
   "cell_type": "markdown",
   "id": "2b1d9be5",
   "metadata": {},
   "source": [
    "    Sort a tuple of strings in alphabetical order."
   ]
  },
  {
   "cell_type": "code",
   "id": "5b0a511f",
   "metadata": {
    "ExecuteTime": {
     "end_time": "2025-03-01T16:43:25.777033Z",
     "start_time": "2025-03-01T16:43:25.763287Z"
    }
   },
   "source": [
    "alp_t = ('zain','ali','ramiz','gohar','kashif')\n",
    "# l1_alp = list(alp_t)\n",
    "# l1_alp.sort()\n",
    "# sorted_alp_t = tuple(l1_alp)\n",
    "# print(sorted_alp_t)\n",
    "\n",
    "sorted_alp_t = tuple(sorted(alp_t))\n",
    "print(sorted_alp_t)"
   ],
   "outputs": [
    {
     "name": "stdout",
     "output_type": "stream",
     "text": [
      "('ali', 'gohar', 'kashif', 'ramiz', 'zain')\n"
     ]
    }
   ],
   "execution_count": 18
  },
  {
   "cell_type": "markdown",
   "id": "0393ae63",
   "metadata": {},
   "source": [
    "Sort a tuple of tuples based on the second element of each inner tuple."
   ]
  },
  {
   "cell_type": "code",
   "id": "5b0d33fd",
   "metadata": {
    "ExecuteTime": {
     "end_time": "2025-03-02T01:33:41.762637Z",
     "start_time": "2025-03-02T01:33:41.716076Z"
    }
   },
   "source": [
    "nested_tuple = ((6,4,5),(8,9,7),(3,1,2))\n",
    "sorted_nested_tuple = sorted(nested_tuple, key= lambda x: x[1])\n",
    "print(sorted_nested_tuple)"
   ],
   "outputs": [
    {
     "name": "stdout",
     "output_type": "stream",
     "text": [
      "[(3, 1, 2), (6, 4, 5), (8, 9, 7)]\n"
     ]
    }
   ],
   "execution_count": 23
  },
  {
   "cell_type": "markdown",
   "id": "65b8f449",
   "metadata": {},
   "source": [
    "Compare two tuples to see if they are equal in both value and identity."
   ]
  },
  {
   "cell_type": "code",
   "id": "e09a6135",
   "metadata": {
    "ExecuteTime": {
     "end_time": "2025-03-01T16:46:43.438687Z",
     "start_time": "2025-03-01T16:46:43.424914Z"
    }
   },
   "source": [
    "t4 = (1,2,3,4)\n",
    "t5 = (1,2,3,4)\n",
    "\n",
    "print(t4 == t5)\n",
    "\n",
    "t6 = (1,2,3,4)\n",
    "t7 = (1,2,4,3)\n",
    "\n",
    "print(t6 == t7)"
   ],
   "outputs": [
    {
     "name": "stdout",
     "output_type": "stream",
     "text": [
      "True\n",
      "False\n"
     ]
    }
   ],
   "execution_count": 22
  },
  {
   "cell_type": "markdown",
   "id": "0810cc18",
   "metadata": {},
   "source": [
    "Create a shallow copy of a tuple and observe the effects of modifying one of the tuples.\n",
    "\n"
   ]
  },
  {
   "cell_type": "code",
   "execution_count": null,
   "id": "426bacd6",
   "metadata": {},
   "outputs": [],
   "source": []
  },
  {
   "cell_type": "markdown",
   "id": "f14455c5",
   "metadata": {},
   "source": [
    "    Create a deep copy of a nested tuple and observe the effects of modifying one of the tuples.\n"
   ]
  },
  {
   "cell_type": "code",
   "execution_count": null,
   "id": "4564c764",
   "metadata": {},
   "outputs": [],
   "source": []
  },
  {
   "cell_type": "markdown",
   "id": "b01879a0",
   "metadata": {},
   "source": [
    "    Pickle a tuple and save it to a file.\n"
   ]
  },
  {
   "cell_type": "code",
   "execution_count": null,
   "id": "55ddfbd4",
   "metadata": {},
   "outputs": [],
   "source": []
  },
  {
   "cell_type": "markdown",
   "id": "6874f46a",
   "metadata": {},
   "source": [
    "    Unpickle a tuple from a file and display its content."
   ]
  },
  {
   "cell_type": "code",
   "execution_count": null,
   "id": "02f8549f",
   "metadata": {},
   "outputs": [],
   "source": []
  }
 ],
 "metadata": {
  "kernelspec": {
   "display_name": "Python 3 (ipykernel)",
   "language": "python",
   "name": "python3"
  },
  "language_info": {
   "codemirror_mode": {
    "name": "ipython",
    "version": 3
   },
   "file_extension": ".py",
   "mimetype": "text/x-python",
   "name": "python",
   "nbconvert_exporter": "python",
   "pygments_lexer": "ipython3",
   "version": "3.9.12"
  }
 },
 "nbformat": 4,
 "nbformat_minor": 5
}
