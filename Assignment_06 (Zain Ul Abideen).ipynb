{
 "cells": [
  {
   "cell_type": "markdown",
   "id": "292d70c6",
   "metadata": {
    "id": "292d70c6"
   },
   "source": [
    "### Assignment-06 (Functions)\n",
    "- Change the notebook name with your name and Roll Number.\n",
    "- Try this as your own, no chatgpt (it's for your learning)\n",
    "- after completing the assignment, submit this book on google class room."
   ]
  },
  {
   "cell_type": "markdown",
   "id": "a78a8d1f",
   "metadata": {
    "id": "a78a8d1f"
   },
   "source": [
    "Write a function named add_numbers that takes two parameters and returns their sum."
   ]
  },
  {
   "cell_type": "code",
   "id": "ecc43aae",
   "metadata": {
    "id": "ecc43aae",
    "ExecuteTime": {
     "end_time": "2025-03-01T17:14:21.698313Z",
     "start_time": "2025-03-01T17:14:21.688545Z"
    }
   },
   "source": [
    "def add_numbers(num1, num2):\n",
    "    return num1 + num2\n",
    "\n",
    "a = 10\n",
    "b = 20\n",
    "\n",
    "print(f\"The sum of {a} and {b} is\",add_numbers(a, b))"
   ],
   "outputs": [
    {
     "name": "stdout",
     "output_type": "stream",
     "text": [
      "The sum of 10 and 20 is 30\n"
     ]
    }
   ],
   "execution_count": 5
  },
  {
   "cell_type": "markdown",
   "id": "b8557bc1",
   "metadata": {
    "id": "b8557bc1"
   },
   "source": [
    "Define a function calculate_area to compute the area of a rectangle given its length and width."
   ]
  },
  {
   "cell_type": "code",
   "id": "5da1bce6",
   "metadata": {
    "id": "5da1bce6",
    "ExecuteTime": {
     "end_time": "2025-03-01T18:27:57.151032Z",
     "start_time": "2025-03-01T18:27:57.134521Z"
    }
   },
   "source": [
    "def calculate_area(num1, num2):\n",
    "    return num1 * num2\n",
    "\n",
    "length = 10\n",
    "width = 5\n",
    "\n",
    "print(f\"The area of {length}x{width} is\",calculate_area(length, width))"
   ],
   "outputs": [
    {
     "name": "stdout",
     "output_type": "stream",
     "text": [
      "The area of 10x5 is 50\n"
     ]
    }
   ],
   "execution_count": 61
  },
  {
   "cell_type": "markdown",
   "id": "ced07c44",
   "metadata": {
    "id": "ced07c44"
   },
   "source": [
    "Add a docstring to the calculate_area function explaining its purpose."
   ]
  },
  {
   "cell_type": "code",
   "id": "a5a19740",
   "metadata": {
    "id": "a5a19740",
    "ExecuteTime": {
     "end_time": "2025-03-01T18:29:38.339715Z",
     "start_time": "2025-03-01T18:29:38.323218Z"
    }
   },
   "source": [
    "def calculate_area(num1, num2):\n",
    "    return num1 * num2\n",
    "    '''This defined function will calculate\n",
    "    the area of a rectangle by multiplying\n",
    "     its length and its width'''\n",
    "length = 10\n",
    "width = 5\n",
    "\n",
    "print(f\"The area of {length}x{width} is\",calculate_area(length, width))"
   ],
   "outputs": [
    {
     "name": "stdout",
     "output_type": "stream",
     "text": [
      "The area of 10x5 is 50\n"
     ]
    }
   ],
   "execution_count": 62
  },
  {
   "cell_type": "markdown",
   "id": "eaa57b3d",
   "metadata": {
    "id": "eaa57b3d"
   },
   "source": [
    "Create a function print_greeting that takes a name as an argument and prints a personalized greeting.\n"
   ]
  },
  {
   "cell_type": "code",
   "id": "134dff75",
   "metadata": {
    "id": "134dff75",
    "ExecuteTime": {
     "end_time": "2025-03-01T18:30:49.319845Z",
     "start_time": "2025-03-01T18:30:45.735631Z"
    }
   },
   "source": [
    "def print_greeting(name):\n",
    "    return f\"Hello, {name}!\"\n",
    "\n",
    "your_name = input(\"What is your name? \")\n",
    "print_greeting(your_name)"
   ],
   "outputs": [
    {
     "data": {
      "text/plain": [
       "'Hello, Zain!'"
      ]
     },
     "execution_count": 64,
     "metadata": {},
     "output_type": "execute_result"
    }
   ],
   "execution_count": 64
  },
  {
   "cell_type": "markdown",
   "id": "a9226488",
   "metadata": {
    "id": "a9226488"
   },
   "source": [
    "Write a function is_prime that checks if a given number is prime.\n"
   ]
  },
  {
   "cell_type": "code",
   "id": "787f0b36",
   "metadata": {
    "id": "787f0b36",
    "ExecuteTime": {
     "end_time": "2025-03-01T17:51:00.533195Z",
     "start_time": "2025-03-01T17:51:00.514417Z"
    }
   },
   "source": [
    "def is_prime(num):\n",
    "    if num <= 1:\n",
    "        return f\"{num} is not a prime number\"\n",
    "    elif num == 2:\n",
    "        return f\"{num} is a prime number\"\n",
    "\n",
    "    elif num > 1:\n",
    "        for i in range(2, num):\n",
    "            if num % i == 0:\n",
    "                return f\"{num} is not a prime number\"\n",
    "            else:\n",
    "                return f\"{num} is a prime number\"\n",
    "\n",
    "\n",
    "a = 13\n",
    "print(is_prime(a))\n"
   ],
   "outputs": [
    {
     "name": "stdout",
     "output_type": "stream",
     "text": [
      "13 is a prime number\n"
     ]
    }
   ],
   "execution_count": 44
  },
  {
   "cell_type": "markdown",
   "id": "9b526fa5",
   "metadata": {
    "id": "9b526fa5"
   },
   "source": [
    "Implement a function factorial to calculate the factorial of a given number.\n"
   ]
  },
  {
   "cell_type": "code",
   "id": "800a23c7",
   "metadata": {
    "id": "800a23c7",
    "ExecuteTime": {
     "end_time": "2025-03-01T18:35:49.436273Z",
     "start_time": "2025-03-01T18:35:49.426803Z"
    }
   },
   "source": [
    "def factorial(num):\n",
    "    if num ==1:\n",
    "        return 1\n",
    "    return num*factorial(num-1)\n",
    "\n",
    "a = 6\n",
    "print(factorial(a))"
   ],
   "outputs": [
    {
     "name": "stdout",
     "output_type": "stream",
     "text": [
      "720\n"
     ]
    }
   ],
   "execution_count": 71
  },
  {
   "cell_type": "markdown",
   "id": "96ca84b5",
   "metadata": {
    "id": "96ca84b5"
   },
   "source": [
    "Create a function print_pattern to print a specific pattern of stars."
   ]
  },
  {
   "cell_type": "code",
   "id": "3239542e",
   "metadata": {
    "id": "3239542e",
    "ExecuteTime": {
     "end_time": "2025-03-01T18:58:03.515154Z",
     "start_time": "2025-03-01T18:58:03.496332Z"
    }
   },
   "source": [
    "def print_pattern(n):\n",
    "    for i in range(1, n +1):\n",
    "        print(\" \" * (n-i), end=\"\")\n",
    "        print(\"*\" * (2*i-1),end=\"\")\n",
    "        print(\"\")\n",
    "\n",
    "a = 5\n",
    "print_pattern(a)"
   ],
   "outputs": [
    {
     "name": "stdout",
     "output_type": "stream",
     "text": [
      "    *\n",
      "   ***\n",
      "  *****\n",
      " *******\n",
      "*********\n"
     ]
    }
   ],
   "execution_count": 78
  },
  {
   "cell_type": "markdown",
   "id": "dd5ace57",
   "metadata": {
    "id": "dd5ace57"
   },
   "source": [
    "Write a function multiply_numbers with default values for its parameters."
   ]
  },
  {
   "cell_type": "code",
   "id": "9165cb2a",
   "metadata": {
    "id": "9165cb2a",
    "ExecuteTime": {
     "end_time": "2025-03-01T19:00:21.422835Z",
     "start_time": "2025-03-01T19:00:21.400647Z"
    }
   },
   "source": [
    "def multiple_numbers(num1 = 4, num2 = 7):\n",
    "    return num1 * num2\n",
    "\n",
    "print(multiple_numbers())"
   ],
   "outputs": [
    {
     "name": "stdout",
     "output_type": "stream",
     "text": [
      "28\n"
     ]
    }
   ],
   "execution_count": 79
  },
  {
   "cell_type": "markdown",
   "id": "7cd00e34",
   "metadata": {
    "id": "7cd00e34"
   },
   "source": [
    "Define a function print_info that takes a variable number of arguments and prints them.\n"
   ]
  },
  {
   "cell_type": "code",
   "id": "e8b03ed1",
   "metadata": {
    "id": "e8b03ed1",
    "ExecuteTime": {
     "end_time": "2025-03-02T01:06:09.334545Z",
     "start_time": "2025-03-02T01:06:09.321444Z"
    }
   },
   "source": [
    "def print_info(*args):\n",
    "    for i in args:\n",
    "        print(i)\n",
    "\n",
    "print_info('zain',24,5.10)"
   ],
   "outputs": [
    {
     "name": "stdout",
     "output_type": "stream",
     "text": [
      "zain\n",
      "24\n",
      "5.1\n"
     ]
    }
   ],
   "execution_count": 89
  },
  {
   "cell_type": "markdown",
   "id": "21006c9c",
   "metadata": {
    "id": "21006c9c"
   },
   "source": [
    "Create a function power_of_two that accepts a number and returns its square.\n"
   ]
  },
  {
   "cell_type": "code",
   "id": "ee003f0d",
   "metadata": {
    "id": "ee003f0d",
    "ExecuteTime": {
     "end_time": "2025-03-01T17:51:26.646770Z",
     "start_time": "2025-03-01T17:51:26.631569Z"
    }
   },
   "source": [
    "def power_of_two(num):\n",
    "    return num ** 2\n",
    "\n",
    "a = 5\n",
    "print(power_of_two(a))\n"
   ],
   "outputs": [
    {
     "name": "stdout",
     "output_type": "stream",
     "text": [
      "25\n"
     ]
    }
   ],
   "execution_count": 45
  },
  {
   "cell_type": "markdown",
   "id": "8aca7c5d",
   "metadata": {
    "id": "8aca7c5d"
   },
   "source": [
    "Define a variable inside a function and try to access it outside the function."
   ]
  },
  {
   "cell_type": "code",
   "id": "1eecf2cb",
   "metadata": {
    "id": "1eecf2cb",
    "ExecuteTime": {
     "end_time": "2025-03-01T17:51:40.015254Z",
     "start_time": "2025-03-01T17:51:39.972657Z"
    }
   },
   "source": [
    "def v_in_def():\n",
    "    var = 10\n",
    "\n",
    "var"
   ],
   "outputs": [
    {
     "ename": "NameError",
     "evalue": "name 'var' is not defined",
     "output_type": "error",
     "traceback": [
      "\u001B[1;31m---------------------------------------------------------------------------\u001B[0m",
      "\u001B[1;31mNameError\u001B[0m                                 Traceback (most recent call last)",
      "Cell \u001B[1;32mIn[46], line 4\u001B[0m\n\u001B[0;32m      1\u001B[0m \u001B[38;5;28;01mdef\u001B[39;00m \u001B[38;5;21mv_in_def\u001B[39m():\n\u001B[0;32m      2\u001B[0m     var \u001B[38;5;241m=\u001B[39m \u001B[38;5;241m10\u001B[39m\n\u001B[1;32m----> 4\u001B[0m var\n",
      "\u001B[1;31mNameError\u001B[0m: name 'var' is not defined"
     ]
    }
   ],
   "execution_count": 46
  },
  {
   "cell_type": "markdown",
   "id": "27ef8bea",
   "metadata": {
    "id": "27ef8bea"
   },
   "source": [
    "Write a function that uses a variable from the enclosing scope."
   ]
  },
  {
   "cell_type": "code",
   "id": "cf7f3658",
   "metadata": {
    "id": "cf7f3658",
    "ExecuteTime": {
     "end_time": "2025-03-01T17:54:54.980330Z",
     "start_time": "2025-03-01T17:54:54.963255Z"
    }
   },
   "source": [
    "def outer_function(num):\n",
    "    num2 = 10\n",
    "\n",
    "    def inner_function():\n",
    "        print(f\"The sum of {num} and {num2} is\" , num + num2)\n",
    "\n",
    "    inner_function()\n",
    "\n",
    "a = 15\n",
    "outer_function(a)"
   ],
   "outputs": [
    {
     "name": "stdout",
     "output_type": "stream",
     "text": [
      "The sum of 15 and 10 is 25\n"
     ]
    }
   ],
   "execution_count": 59
  },
  {
   "cell_type": "markdown",
   "id": "e4bc1865",
   "metadata": {
    "id": "e4bc1865"
   },
   "source": [
    "Create a global variable and modify it inside a function."
   ]
  },
  {
   "cell_type": "code",
   "id": "16466e1d",
   "metadata": {
    "id": "16466e1d",
    "ExecuteTime": {
     "end_time": "2025-03-01T19:07:16.801748Z",
     "start_time": "2025-03-01T19:07:16.780452Z"
    }
   },
   "source": [
    "var = \"zain\"\n",
    "\n",
    "def modify_var():\n",
    "    global var\n",
    "    var = \"ali\"\n",
    "\n",
    "modify_var()\n",
    "var"
   ],
   "outputs": [
    {
     "data": {
      "text/plain": [
       "'ali'"
      ]
     },
     "execution_count": 81,
     "metadata": {},
     "output_type": "execute_result"
    }
   ],
   "execution_count": 81
  },
  {
   "cell_type": "markdown",
   "id": "05e33835",
   "metadata": {
    "id": "05e33835"
   },
   "source": [
    "Write a lambda function to calculate the cube of a number."
   ]
  },
  {
   "cell_type": "code",
   "id": "a1066910",
   "metadata": {
    "id": "a1066910",
    "ExecuteTime": {
     "end_time": "2025-03-02T00:53:55.691930Z",
     "start_time": "2025-03-02T00:53:55.669641Z"
    }
   },
   "source": [
    "cube = lambda x:x**3\n",
    "\n",
    "a = 3\n",
    "print(cube(a))\n",
    "\n"
   ],
   "outputs": [
    {
     "name": "stdout",
     "output_type": "stream",
     "text": [
      "27\n"
     ]
    }
   ],
   "execution_count": 82
  },
  {
   "cell_type": "markdown",
   "id": "835f805c",
   "metadata": {
    "id": "835f805c"
   },
   "source": [
    "Use a lambda function as an argument with the map function."
   ]
  },
  {
   "cell_type": "code",
   "id": "2c18968f",
   "metadata": {
    "id": "2c18968f",
    "ExecuteTime": {
     "end_time": "2025-03-02T01:01:03.568737Z",
     "start_time": "2025-03-02T01:01:03.555595Z"
    }
   },
   "source": [
    "l = [1,2,3,4]\n",
    "cube_of_l = list(map(lambda x:x**3, l))\n",
    "print(cube_of_l)"
   ],
   "outputs": [
    {
     "name": "stdout",
     "output_type": "stream",
     "text": [
      "[1, 8, 27, 64]\n"
     ]
    }
   ],
   "execution_count": 85
  },
  {
   "cell_type": "markdown",
   "id": "afd4b510",
   "metadata": {
    "id": "afd4b510"
   },
   "source": [
    "Use a lambda function with the filter function to filter even numbers from a list."
   ]
  },
  {
   "cell_type": "code",
   "id": "8b02f236",
   "metadata": {
    "id": "8b02f236",
    "ExecuteTime": {
     "end_time": "2025-03-02T01:09:04.644008Z",
     "start_time": "2025-03-02T01:09:04.618100Z"
    }
   },
   "source": [
    "num = [1,2,3,4,5,6,7,8]\n",
    "\n",
    "e_num = list(filter(lambda x:x%2==0, num))\n",
    "\n",
    "e_num"
   ],
   "outputs": [
    {
     "data": {
      "text/plain": [
       "[2, 4, 6, 8]"
      ]
     },
     "execution_count": 92,
     "metadata": {},
     "output_type": "execute_result"
    }
   ],
   "execution_count": 92
  },
  {
   "cell_type": "markdown",
   "id": "3b36cb84",
   "metadata": {
    "id": "3b36cb84"
   },
   "source": [
    "Apply a lambda function with the reduce function to find the product of a list."
   ]
  },
  {
   "cell_type": "code",
   "id": "a5d035b3",
   "metadata": {
    "id": "a5d035b3",
    "ExecuteTime": {
     "end_time": "2025-03-02T01:11:38.198102Z",
     "start_time": "2025-03-02T01:11:38.179226Z"
    }
   },
   "source": [
    "# num = [1,2,3,4,5,6,7,8]\n",
    "\n",
    "from functools import reduce\n",
    "\n",
    "prod = reduce(lambda x,y:x*y, num)\n",
    "\n",
    "print(prod)"
   ],
   "outputs": [
    {
     "name": "stdout",
     "output_type": "stream",
     "text": [
      "40320\n"
     ]
    }
   ],
   "execution_count": 93
  },
  {
   "cell_type": "markdown",
   "id": "1462df0e",
   "metadata": {
    "id": "1462df0e"
   },
   "source": [
    "Sort a list of tuples based on the second element using a lambda function."
   ]
  },
  {
   "cell_type": "code",
   "id": "74e28382",
   "metadata": {
    "id": "74e28382",
    "ExecuteTime": {
     "end_time": "2025-03-02T01:23:59.639436Z",
     "start_time": "2025-03-02T01:23:59.620143Z"
    }
   },
   "source": [
    "l_of_t = [(1,3),(5,2),(4,6),(7,8)]\n",
    "sorted_l_of_t = sorted(l_of_t,key =lambda x: x[1])\n",
    "sorted_l_of_t"
   ],
   "outputs": [
    {
     "data": {
      "text/plain": [
       "[(5, 2), (1, 3), (4, 6), (7, 8)]"
      ]
     },
     "execution_count": 103,
     "metadata": {},
     "output_type": "execute_result"
    }
   ],
   "execution_count": 103
  },
  {
   "cell_type": "markdown",
   "id": "c0978a54",
   "metadata": {
    "id": "c0978a54"
   },
   "source": [
    "Demonstrate the use of the zip function with two lists."
   ]
  },
  {
   "cell_type": "code",
   "id": "9d41c722",
   "metadata": {
    "id": "9d41c722",
    "ExecuteTime": {
     "end_time": "2025-03-02T01:14:14.990611Z",
     "start_time": "2025-03-02T01:14:14.973088Z"
    }
   },
   "source": [
    "l1 = [1,2,3,4]\n",
    "l2 = [5,6,7,8]\n",
    "\n",
    "l3 = list(zip(l1,l2))\n",
    "\n",
    "print(l3)"
   ],
   "outputs": [
    {
     "name": "stdout",
     "output_type": "stream",
     "text": [
      "[(1, 5), (2, 6), (3, 7), (4, 8)]\n"
     ]
    }
   ],
   "execution_count": 95
  },
  {
   "cell_type": "markdown",
   "id": "00d634fa",
   "metadata": {
    "id": "00d634fa"
   },
   "source": [
    "Implement a generator function that generates Fibonacci numbers."
   ]
  },
  {
   "cell_type": "code",
   "execution_count": null,
   "id": "6cd6a877",
   "metadata": {
    "id": "6cd6a877"
   },
   "outputs": [],
   "source": []
  },
  {
   "cell_type": "markdown",
   "id": "cfdbada2",
   "metadata": {
    "id": "cfdbada2"
   },
   "source": [
    "Use a generator expression to create a sequence of squares."
   ]
  },
  {
   "cell_type": "code",
   "id": "8261d6f6",
   "metadata": {
    "id": "8261d6f6",
    "ExecuteTime": {
     "end_time": "2025-03-02T01:28:48.744816Z",
     "start_time": "2025-03-02T01:28:48.735055Z"
    }
   },
   "source": [
    "sq2 = list(x**2 for x in range(1,5))\n",
    "sq2"
   ],
   "outputs": [
    {
     "data": {
      "text/plain": [
       "[1, 4, 9, 16]"
      ]
     },
     "execution_count": 105,
     "metadata": {},
     "output_type": "execute_result"
    }
   ],
   "execution_count": 105
  },
  {
   "cell_type": "markdown",
   "id": "c1732ffe",
   "metadata": {
    "id": "c1732ffe"
   },
   "source": [
    "Write a function that uses the yield statement to produce a generator."
   ]
  },
  {
   "cell_type": "code",
   "execution_count": null,
   "id": "77d601a1",
   "metadata": {
    "id": "77d601a1"
   },
   "outputs": [],
   "source": []
  },
  {
   "cell_type": "markdown",
   "id": "413bf1e2",
   "metadata": {
    "id": "413bf1e2"
   },
   "source": [
    "Explain the difference between iterators and generators in Python."
   ]
  },
  {
   "cell_type": "code",
   "execution_count": null,
   "id": "8b944f0e",
   "metadata": {
    "id": "8b944f0e"
   },
   "outputs": [],
   "source": []
  },
  {
   "cell_type": "markdown",
   "id": "0d59b556",
   "metadata": {
    "id": "0d59b556"
   },
   "source": [
    "Write a Python program that includes a nested function. Inside the nested function, access a variable from the enclosing function's scope, and explain how the scope resolution works in this case."
   ]
  },
  {
   "cell_type": "code",
   "execution_count": null,
   "id": "992f17dd",
   "metadata": {
    "id": "992f17dd"
   },
   "outputs": [],
   "source": []
  },
  {
   "cell_type": "markdown",
   "id": "a945086c",
   "metadata": {
    "id": "a945086c"
   },
   "source": [
    "Create a list of strings containing both uppercase and lowercase words. Use a lambda function with the sorted() function to sort the list in a case-insensitive manner."
   ]
  },
  {
   "cell_type": "code",
   "execution_count": null,
   "id": "d6445a64",
   "metadata": {
    "id": "d6445a64"
   },
   "outputs": [],
   "source": []
  },
  {
   "cell_type": "markdown",
   "id": "9b5aa572",
   "metadata": {
    "id": "9b5aa572"
   },
   "source": [
    "Implement a generator function that yields prime numbers indefinitely. Use this generator to print the first 10 prime numbers."
   ]
  },
  {
   "cell_type": "code",
   "execution_count": null,
   "id": "86f1ead1",
   "metadata": {
    "id": "86f1ead1"
   },
   "outputs": [],
   "source": []
  },
  {
   "cell_type": "markdown",
   "id": "e3b956a8",
   "metadata": {
    "id": "e3b956a8"
   },
   "source": [
    "Write a decorator function that measures the execution time of another function. Apply this decorator to a function of your choice and print the execution time."
   ]
  },
  {
   "cell_type": "code",
   "execution_count": null,
   "id": "ebbab120",
   "metadata": {
    "id": "ebbab120"
   },
   "outputs": [],
   "source": []
  },
  {
   "cell_type": "markdown",
   "id": "e2bbd3e3",
   "metadata": {
    "id": "e2bbd3e3"
   },
   "source": []
  }
 ],
 "metadata": {
  "kernelspec": {
   "display_name": "Python 3 (ipykernel)",
   "language": "python",
   "name": "python3"
  },
  "language_info": {
   "codemirror_mode": {
    "name": "ipython",
    "version": 3
   },
   "file_extension": ".py",
   "mimetype": "text/x-python",
   "name": "python",
   "nbconvert_exporter": "python",
   "pygments_lexer": "ipython3",
   "version": "3.10.13"
  },
  "colab": {
   "provenance": []
  }
 },
 "nbformat": 4,
 "nbformat_minor": 5
}
