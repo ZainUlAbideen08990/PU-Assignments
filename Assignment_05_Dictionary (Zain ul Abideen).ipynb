{
 "cells": [
  {
   "cell_type": "markdown",
   "id": "d3b1242a",
   "metadata": {},
   "source": [
    "### Assignment-05 (DICTIONARY)\n",
    "- Change the notebook name with your name and Roll Number.\n",
    "- Try this as your own, no chatgpt (it's for your learning)\n",
    "- after completing the assignment, submit this book on google class room."
   ]
  },
  {
   "cell_type": "markdown",
   "id": "3079cae1",
   "metadata": {},
   "source": [
    "    Create an empty dictionary and print it.\n"
   ]
  },
  {
   "cell_type": "code",
   "id": "1e0b1c0d",
   "metadata": {
    "ExecuteTime": {
     "end_time": "2025-03-01T17:59:05.172379Z",
     "start_time": "2025-03-01T17:59:05.156876Z"
    }
   },
   "source": [
    "empty_dic = {}\n",
    "print(empty_dic)"
   ],
   "outputs": [
    {
     "name": "stdout",
     "output_type": "stream",
     "text": [
      "{}\n"
     ]
    }
   ],
   "execution_count": 2
  },
  {
   "cell_type": "markdown",
   "id": "c02f03e9",
   "metadata": {},
   "source": [
    "    Create a dictionary representing a person with keys such as 'name', 'age', and 'city'.\n"
   ]
  },
  {
   "cell_type": "code",
   "id": "1c55f8a0",
   "metadata": {
    "ExecuteTime": {
     "end_time": "2025-03-01T17:59:05.875593Z",
     "start_time": "2025-03-01T17:59:05.867903Z"
    }
   },
   "source": [
    "dic = {'name':'zain','age':24,'city':'gojra'}\n",
    "print(dic)"
   ],
   "outputs": [
    {
     "name": "stdout",
     "output_type": "stream",
     "text": [
      "{'name': 'zain', 'age': 24, 'city': 'gojra'}\n"
     ]
    }
   ],
   "execution_count": 3
  },
  {
   "cell_type": "markdown",
   "id": "3de2a866",
   "metadata": {},
   "source": [
    "    Create a dictionary that includes keys with different data types (strings, integers)."
   ]
  },
  {
   "cell_type": "code",
   "id": "89c0b2ee",
   "metadata": {
    "ExecuteTime": {
     "end_time": "2025-03-01T17:59:06.495925Z",
     "start_time": "2025-03-01T17:59:06.486885Z"
    }
   },
   "source": [
    "mix_dic ={'zain':24,267.5:'ali'}\n",
    "print(mix_dic)"
   ],
   "outputs": [
    {
     "name": "stdout",
     "output_type": "stream",
     "text": [
      "{'zain': 24, 267.5: 'ali'}\n"
     ]
    }
   ],
   "execution_count": 4
  },
  {
   "cell_type": "markdown",
   "id": "41ce050c",
   "metadata": {},
   "source": [
    "Access and print the value associated with a specific key."
   ]
  },
  {
   "cell_type": "code",
   "id": "ec5dbc94",
   "metadata": {
    "ExecuteTime": {
     "end_time": "2025-03-01T17:59:07.194138Z",
     "start_time": "2025-03-01T17:59:07.188198Z"
    }
   },
   "source": "print(mix_dic['zain'])",
   "outputs": [
    {
     "name": "stdout",
     "output_type": "stream",
     "text": [
      "24\n"
     ]
    }
   ],
   "execution_count": 5
  },
  {
   "cell_type": "markdown",
   "id": "b6b0c37d",
   "metadata": {},
   "source": [
    "    Use the get() method to access a value, providing a default value if the key is not present.\n"
   ]
  },
  {
   "cell_type": "code",
   "id": "7aa9e88c",
   "metadata": {
    "ExecuteTime": {
     "end_time": "2025-03-01T18:00:04.459555Z",
     "start_time": "2025-03-01T18:00:04.447140Z"
    }
   },
   "source": [
    "print(mix_dic.get('zain'))\n",
    "print(mix_dic.get('asad'))"
   ],
   "outputs": [
    {
     "name": "stdout",
     "output_type": "stream",
     "text": [
      "24\n",
      "None\n"
     ]
    }
   ],
   "execution_count": 8
  },
  {
   "cell_type": "markdown",
   "id": "fd070da0",
   "metadata": {},
   "source": [
    "    Iterate through the keys of a dictionary and print each key."
   ]
  },
  {
   "cell_type": "code",
   "id": "20a421cc",
   "metadata": {
    "ExecuteTime": {
     "end_time": "2025-03-01T18:03:05.791035Z",
     "start_time": "2025-03-01T18:03:05.776602Z"
    }
   },
   "source": [
    "for key in mix_dic:\n",
    "    print(key)"
   ],
   "outputs": [
    {
     "name": "stdout",
     "output_type": "stream",
     "text": [
      "zain\n",
      "267.5\n"
     ]
    }
   ],
   "execution_count": 11
  },
  {
   "cell_type": "markdown",
   "id": "b743bd62",
   "metadata": {},
   "source": [
    "Add a new key-value pair to a dictionary."
   ]
  },
  {
   "cell_type": "code",
   "id": "db404144",
   "metadata": {
    "ExecuteTime": {
     "end_time": "2025-03-01T18:12:20.750715Z",
     "start_time": "2025-03-01T18:12:20.738175Z"
    }
   },
   "source": [
    "kv_dic = {1:2,3:4,5:6}\n",
    "print(kv_dic)\n",
    "\n",
    "kv_dic[7] = 8\n",
    "print(kv_dic)"
   ],
   "outputs": [
    {
     "name": "stdout",
     "output_type": "stream",
     "text": [
      "{1: 2, 3: 4, 5: 6}\n",
      "{1: 2, 3: 4, 5: 6, 7: 8}\n"
     ]
    }
   ],
   "execution_count": 31
  },
  {
   "cell_type": "markdown",
   "id": "ef13537b",
   "metadata": {},
   "source": [
    "Modify the value associated with an existing key."
   ]
  },
  {
   "cell_type": "code",
   "id": "5e655290",
   "metadata": {
    "ExecuteTime": {
     "end_time": "2025-03-01T18:12:24.367706Z",
     "start_time": "2025-03-01T18:12:24.357831Z"
    }
   },
   "source": [
    "kv_dic[1] = 7\n",
    "print(kv_dic)"
   ],
   "outputs": [
    {
     "name": "stdout",
     "output_type": "stream",
     "text": [
      "{1: 7, 3: 4, 5: 6, 7: 8}\n"
     ]
    }
   ],
   "execution_count": 32
  },
  {
   "cell_type": "markdown",
   "id": "2ff9fb92",
   "metadata": {},
   "source": [
    "Remove a specific key-value pair from a dictionary using the pop() method.\n",
    "\n"
   ]
  },
  {
   "cell_type": "code",
   "id": "1bdb4169",
   "metadata": {
    "ExecuteTime": {
     "end_time": "2025-03-01T18:12:25.653294Z",
     "start_time": "2025-03-01T18:12:25.645973Z"
    }
   },
   "source": [
    "kv_dic.pop(1)\n",
    "print(kv_dic)"
   ],
   "outputs": [
    {
     "name": "stdout",
     "output_type": "stream",
     "text": [
      "{3: 4, 5: 6, 7: 8}\n"
     ]
    }
   ],
   "execution_count": 33
  },
  {
   "cell_type": "markdown",
   "id": "edc2abf7",
   "metadata": {},
   "source": [
    "    Remove a specific key-value pair from a dictionary using the del statement."
   ]
  },
  {
   "cell_type": "code",
   "id": "538eca73",
   "metadata": {
    "ExecuteTime": {
     "end_time": "2025-03-01T18:12:26.854783Z",
     "start_time": "2025-03-01T18:12:26.846574Z"
    }
   },
   "source": [
    "del kv_dic[3]\n",
    "print(kv_dic)"
   ],
   "outputs": [
    {
     "name": "stdout",
     "output_type": "stream",
     "text": [
      "{5: 6, 7: 8}\n"
     ]
    }
   ],
   "execution_count": 34
  },
  {
   "cell_type": "markdown",
   "id": "0f2d7e6a",
   "metadata": {},
   "source": [
    "Convert a dictionary to a list of keys."
   ]
  },
  {
   "cell_type": "code",
   "id": "5705250c",
   "metadata": {
    "ExecuteTime": {
     "end_time": "2025-03-01T18:14:26.443658Z",
     "start_time": "2025-03-01T18:14:26.428760Z"
    }
   },
   "source": [
    "l_of_keys = list(kv_dic.keys())\n",
    "print(l_of_keys)"
   ],
   "outputs": [
    {
     "name": "stdout",
     "output_type": "stream",
     "text": [
      "[5, 7]\n"
     ]
    }
   ],
   "execution_count": 35
  },
  {
   "cell_type": "markdown",
   "id": "1191e090",
   "metadata": {},
   "source": [
    "    Convert a dictionary to a list of values.\n"
   ]
  },
  {
   "cell_type": "code",
   "id": "e89b908a",
   "metadata": {
    "ExecuteTime": {
     "end_time": "2025-03-01T18:14:41.094447Z",
     "start_time": "2025-03-01T18:14:41.086604Z"
    }
   },
   "source": [
    "l_of_values = list(kv_dic.values())\n",
    "print(l_of_values)"
   ],
   "outputs": [
    {
     "name": "stdout",
     "output_type": "stream",
     "text": [
      "[6, 8]\n"
     ]
    }
   ],
   "execution_count": 36
  },
  {
   "cell_type": "markdown",
   "id": "f72c7f5e",
   "metadata": {},
   "source": [
    "    Convert a list of tuples to a dictionary."
   ]
  },
  {
   "cell_type": "code",
   "id": "2f531bc4",
   "metadata": {
    "ExecuteTime": {
     "end_time": "2025-03-01T18:21:39.871152Z",
     "start_time": "2025-03-01T18:21:39.864240Z"
    }
   },
   "source": [
    "l_of_t = [(1,2),(3,4),(5,6)]\n",
    "l_to_dict = dict(l_of_t)\n",
    "print(l_to_dict)"
   ],
   "outputs": [
    {
     "name": "stdout",
     "output_type": "stream",
     "text": [
      "{1: 2, 3: 4, 5: 6}\n"
     ]
    }
   ],
   "execution_count": 47
  },
  {
   "cell_type": "markdown",
   "id": "8ce9bedf",
   "metadata": {},
   "source": [
    "Use the keys() method to get a list of keys in a dictionary.\n"
   ]
  },
  {
   "cell_type": "code",
   "id": "7d975a45",
   "metadata": {
    "ExecuteTime": {
     "end_time": "2025-03-01T18:21:40.676053Z",
     "start_time": "2025-03-01T18:21:40.668740Z"
    }
   },
   "source": "print(l_to_dict.keys())",
   "outputs": [
    {
     "name": "stdout",
     "output_type": "stream",
     "text": [
      "dict_keys([1, 3, 5])\n"
     ]
    }
   ],
   "execution_count": 48
  },
  {
   "cell_type": "markdown",
   "id": "8adb7c9d",
   "metadata": {},
   "source": [
    "\n",
    "    Use the values() method to get a list of values in a dictionary.\n"
   ]
  },
  {
   "cell_type": "code",
   "id": "fb8a455c",
   "metadata": {
    "ExecuteTime": {
     "end_time": "2025-03-01T18:21:41.124267Z",
     "start_time": "2025-03-01T18:21:41.115789Z"
    }
   },
   "source": "print(l_to_dict.values())",
   "outputs": [
    {
     "name": "stdout",
     "output_type": "stream",
     "text": [
      "dict_values([2, 4, 6])\n"
     ]
    }
   ],
   "execution_count": 49
  },
  {
   "cell_type": "markdown",
   "id": "b4b044e4",
   "metadata": {},
   "source": [
    "    Use the items() method to get a list of key-value pairs in a dictionary."
   ]
  },
  {
   "cell_type": "code",
   "id": "ca390b74",
   "metadata": {
    "ExecuteTime": {
     "end_time": "2025-03-01T18:21:43.710116Z",
     "start_time": "2025-03-01T18:21:43.696667Z"
    }
   },
   "source": "print(l_to_dict.items())",
   "outputs": [
    {
     "name": "stdout",
     "output_type": "stream",
     "text": [
      "dict_items([(1, 2), (3, 4), (5, 6)])\n"
     ]
    }
   ],
   "execution_count": 50
  },
  {
   "cell_type": "markdown",
   "id": "bd4eb41b",
   "metadata": {},
   "source": [
    "Check if a key is present in a dictionary using the in operator.\n",
    "\n"
   ]
  },
  {
   "cell_type": "code",
   "id": "39c2a92f",
   "metadata": {
    "ExecuteTime": {
     "end_time": "2025-03-01T18:21:45.961233Z",
     "start_time": "2025-03-01T18:21:45.954028Z"
    }
   },
   "source": [
    "print(1 in l_to_dict)\n",
    "print(9 in l_to_dict)"
   ],
   "outputs": [
    {
     "name": "stdout",
     "output_type": "stream",
     "text": [
      "True\n",
      "False\n"
     ]
    }
   ],
   "execution_count": 51
  },
  {
   "cell_type": "markdown",
   "id": "ba80007f",
   "metadata": {},
   "source": [
    "    Use the setdefault() method to add a key with a default value if it doesn't exist.\n"
   ]
  },
  {
   "cell_type": "code",
   "id": "cc19bd44",
   "metadata": {
    "ExecuteTime": {
     "end_time": "2025-03-01T18:22:24.835531Z",
     "start_time": "2025-03-01T18:22:24.821244Z"
    }
   },
   "source": [
    "l_to_dict.setdefault(7,8)\n",
    "print(l_to_dict)"
   ],
   "outputs": [
    {
     "name": "stdout",
     "output_type": "stream",
     "text": [
      "{1: 2, 3: 4, 5: 6, 7: 8}\n"
     ]
    }
   ],
   "execution_count": 52
  },
  {
   "cell_type": "markdown",
   "id": "5dd9b173",
   "metadata": {},
   "source": [
    "    Merge two dictionaries using the update() method.\n"
   ]
  },
  {
   "cell_type": "code",
   "id": "05e95981",
   "metadata": {
    "ExecuteTime": {
     "end_time": "2025-03-01T18:24:11.487340Z",
     "start_time": "2025-03-01T18:24:11.473487Z"
    }
   },
   "source": [
    "dict1 = {1:2,3:4,5:6}\n",
    "dict2 = {7:8,9:10,11:12}\n",
    "\n",
    "dict1.update(dict2)\n",
    "print(dict1)\n",
    "\n"
   ],
   "outputs": [
    {
     "name": "stdout",
     "output_type": "stream",
     "text": [
      "{1: 2, 3: 4, 5: 6, 7: 8, 9: 10, 11: 12}\n"
     ]
    }
   ],
   "execution_count": 56
  },
  {
   "cell_type": "markdown",
   "id": "1415c188",
   "metadata": {},
   "source": [
    "    Use the clear() method to remove all elements from a dictionary."
   ]
  },
  {
   "cell_type": "code",
   "id": "bdf48d4c",
   "metadata": {
    "ExecuteTime": {
     "end_time": "2025-03-01T18:24:36.501831Z",
     "start_time": "2025-03-01T18:24:36.494335Z"
    }
   },
   "source": [
    "dict1.clear()\n",
    "print(dict1)"
   ],
   "outputs": [
    {
     "name": "stdout",
     "output_type": "stream",
     "text": [
      "{}\n"
     ]
    }
   ],
   "execution_count": 57
  },
  {
   "metadata": {},
   "cell_type": "code",
   "outputs": [],
   "execution_count": null,
   "source": "",
   "id": "83106091ad557d17"
  }
 ],
 "metadata": {
  "kernelspec": {
   "display_name": "Python 3 (ipykernel)",
   "language": "python",
   "name": "python3"
  },
  "language_info": {
   "codemirror_mode": {
    "name": "ipython",
    "version": 3
   },
   "file_extension": ".py",
   "mimetype": "text/x-python",
   "name": "python",
   "nbconvert_exporter": "python",
   "pygments_lexer": "ipython3",
   "version": "3.9.12"
  }
 },
 "nbformat": 4,
 "nbformat_minor": 5
}
