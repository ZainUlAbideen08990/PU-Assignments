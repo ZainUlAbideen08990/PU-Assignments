{
 "cells": [
  {
   "cell_type": "markdown",
   "id": "48147901",
   "metadata": {},
   "source": [
    "### Assignment-04 (List)\n",
    "- Change the notebook name with your name and Roll Number.\n",
    "- Try this as your own, no chatgpt (it's for your learning)\n",
    "- after completing the assignment, submit this book on google class room."
   ]
  },
  {
   "cell_type": "code",
   "id": "26b4d246",
   "metadata": {
    "ExecuteTime": {
     "end_time": "2025-02-26T12:59:45.098471Z",
     "start_time": "2025-02-26T12:59:45.094289Z"
    }
   },
   "source": [],
   "outputs": [],
   "execution_count": null
  },
  {
   "cell_type": "markdown",
   "id": "4a0551ca",
   "metadata": {},
   "source": [
    "Create an empty list and print it.\n"
   ]
  },
  {
   "cell_type": "code",
   "id": "d2923b71",
   "metadata": {
    "ExecuteTime": {
     "end_time": "2025-03-01T16:47:37.661647Z",
     "start_time": "2025-03-01T16:47:37.641133Z"
    }
   },
   "source": [
    "l = []\n",
    "print(l)"
   ],
   "outputs": [
    {
     "name": "stdout",
     "output_type": "stream",
     "text": [
      "[]\n"
     ]
    }
   ],
   "execution_count": 1
  },
  {
   "cell_type": "markdown",
   "id": "fa6b638e",
   "metadata": {},
   "source": [
    "Create a list of your favorite colors and print it.\n"
   ]
  },
  {
   "cell_type": "code",
   "id": "c549875c",
   "metadata": {
    "ExecuteTime": {
     "end_time": "2025-03-01T16:47:38.139820Z",
     "start_time": "2025-03-01T16:47:38.133762Z"
    }
   },
   "source": [
    "l_colors = ['purple','yellow','green','black']\n",
    "print(l_colors)"
   ],
   "outputs": [
    {
     "name": "stdout",
     "output_type": "stream",
     "text": [
      "['purple', 'yellow', 'green', 'black']\n"
     ]
    }
   ],
   "execution_count": 2
  },
  {
   "cell_type": "markdown",
   "id": "4a1371d4",
   "metadata": {},
   "source": [
    "Create a list that includes a mix of data types (integers, strings, floats).\n"
   ]
  },
  {
   "cell_type": "code",
   "id": "dfc878e2",
   "metadata": {
    "ExecuteTime": {
     "end_time": "2025-03-01T16:47:39.430219Z",
     "start_time": "2025-03-01T16:47:39.416372Z"
    }
   },
   "source": [
    "r_list = [1,2,3,0.5,6.0,5.9,'zain']\n",
    "print(r_list)"
   ],
   "outputs": [
    {
     "name": "stdout",
     "output_type": "stream",
     "text": [
      "[1, 2, 3, 0.5, 6.0, 5.9, 'zain']\n"
     ]
    }
   ],
   "execution_count": 3
  },
  {
   "cell_type": "markdown",
   "id": "2916cde7",
   "metadata": {},
   "source": [
    "Access the first element of a list.\n"
   ]
  },
  {
   "cell_type": "code",
   "id": "a0a7b3d2",
   "metadata": {
    "ExecuteTime": {
     "end_time": "2025-03-01T16:47:41.601033Z",
     "start_time": "2025-03-01T16:47:41.586368Z"
    }
   },
   "source": "print(r_list[0])",
   "outputs": [
    {
     "name": "stdout",
     "output_type": "stream",
     "text": [
      "1\n"
     ]
    }
   ],
   "execution_count": 4
  },
  {
   "cell_type": "markdown",
   "id": "13b39ea7",
   "metadata": {},
   "source": [
    "Access the last element of a list."
   ]
  },
  {
   "cell_type": "code",
   "id": "4f8cf5da",
   "metadata": {
    "ExecuteTime": {
     "end_time": "2025-03-01T16:47:43.607575Z",
     "start_time": "2025-03-01T16:47:43.597887Z"
    }
   },
   "source": "print(r_list[-1])",
   "outputs": [
    {
     "name": "stdout",
     "output_type": "stream",
     "text": [
      "zain\n"
     ]
    }
   ],
   "execution_count": 5
  },
  {
   "cell_type": "markdown",
   "id": "ef7e0f8d",
   "metadata": {},
   "source": [
    " Access the second and third elements of a list.\n"
   ]
  },
  {
   "cell_type": "code",
   "id": "e215ceed",
   "metadata": {
    "ExecuteTime": {
     "end_time": "2025-03-01T16:47:47.196433Z",
     "start_time": "2025-03-01T16:47:47.187338Z"
    }
   },
   "source": "print(r_list[1:3])",
   "outputs": [
    {
     "name": "stdout",
     "output_type": "stream",
     "text": [
      "[2, 3]\n"
     ]
    }
   ],
   "execution_count": 6
  },
  {
   "cell_type": "markdown",
   "id": "16ef79f1",
   "metadata": {},
   "source": [
    "\n",
    "Slice a list to extract the first three elements.\n"
   ]
  },
  {
   "cell_type": "code",
   "id": "86d94d3c",
   "metadata": {
    "ExecuteTime": {
     "end_time": "2025-03-01T16:47:51.696515Z",
     "start_time": "2025-03-01T16:47:51.682862Z"
    }
   },
   "source": [
    "s_list = r_list[0:3]\n",
    "print(s_list)\n",
    "\n"
   ],
   "outputs": [
    {
     "name": "stdout",
     "output_type": "stream",
     "text": [
      "[1, 2, 3]\n"
     ]
    }
   ],
   "execution_count": 7
  },
  {
   "cell_type": "markdown",
   "id": "717afad5",
   "metadata": {},
   "source": [
    "Slice a list to extract the last three elements.\n"
   ]
  },
  {
   "cell_type": "code",
   "id": "2f79b771",
   "metadata": {
    "ExecuteTime": {
     "end_time": "2025-03-01T16:47:54.337231Z",
     "start_time": "2025-03-01T16:47:54.320166Z"
    }
   },
   "source": [
    "s_list_2 = r_list[-3:]\n",
    "print(s_list_2)"
   ],
   "outputs": [
    {
     "name": "stdout",
     "output_type": "stream",
     "text": [
      "[6.0, 5.9, 'zain']\n"
     ]
    }
   ],
   "execution_count": 8
  },
  {
   "cell_type": "markdown",
   "id": "da7f582e",
   "metadata": {},
   "source": [
    "Slice a list to get every second element.\n"
   ]
  },
  {
   "cell_type": "code",
   "id": "4edeea3d",
   "metadata": {
    "ExecuteTime": {
     "end_time": "2025-03-01T16:47:59.426528Z",
     "start_time": "2025-03-01T16:47:59.414898Z"
    }
   },
   "source": [
    "sl_list = r_list[::2]\n",
    "print(sl_list)"
   ],
   "outputs": [
    {
     "name": "stdout",
     "output_type": "stream",
     "text": [
      "[1, 3, 6.0, 'zain']\n"
     ]
    }
   ],
   "execution_count": 9
  },
  {
   "cell_type": "markdown",
   "id": "011bb9f7",
   "metadata": {},
   "source": [
    "Reverse a list using slicing."
   ]
  },
  {
   "cell_type": "code",
   "id": "c11e7110",
   "metadata": {
    "ExecuteTime": {
     "end_time": "2025-03-01T16:48:04.581526Z",
     "start_time": "2025-03-01T16:48:04.566588Z"
    }
   },
   "source": [
    "rv_list = r_list[::-1]\n",
    "print(rv_list)"
   ],
   "outputs": [
    {
     "name": "stdout",
     "output_type": "stream",
     "text": [
      "['zain', 5.9, 6.0, 0.5, 3, 2, 1]\n"
     ]
    }
   ],
   "execution_count": 10
  },
  {
   "cell_type": "markdown",
   "id": "5f45b7a8",
   "metadata": {},
   "source": [
    " Create two lists and concatenate them.\n"
   ]
  },
  {
   "cell_type": "code",
   "id": "2c210b01",
   "metadata": {
    "ExecuteTime": {
     "end_time": "2025-03-01T16:49:11.950764Z",
     "start_time": "2025-03-01T16:49:11.936579Z"
    }
   },
   "source": [
    "l1 = [1,2,3,4]\n",
    "l2 = [5,6,7,8]\n",
    "print(l1 + l2)"
   ],
   "outputs": [
    {
     "name": "stdout",
     "output_type": "stream",
     "text": [
      "[1, 2, 3, 4, 5, 6, 7, 8]\n"
     ]
    }
   ],
   "execution_count": 17
  },
  {
   "cell_type": "markdown",
   "id": "a6c019d7",
   "metadata": {},
   "source": [
    "\n",
    "Repeat a list multiple times using the repetition operator"
   ]
  },
  {
   "cell_type": "code",
   "id": "b40d10b9",
   "metadata": {
    "ExecuteTime": {
     "end_time": "2025-03-01T16:49:15.822754Z",
     "start_time": "2025-03-01T16:49:15.808800Z"
    }
   },
   "source": "print(l1 * 5)\n",
   "outputs": [
    {
     "name": "stdout",
     "output_type": "stream",
     "text": [
      "[1, 2, 3, 4, 1, 2, 3, 4, 1, 2, 3, 4, 1, 2, 3, 4, 1, 2, 3, 4]\n"
     ]
    }
   ],
   "execution_count": 18
  },
  {
   "cell_type": "markdown",
   "id": "0fdf9b21",
   "metadata": {},
   "source": [
    "Add a new element to the end of a list using the append() method.\n"
   ]
  },
  {
   "cell_type": "code",
   "id": "86906fc9",
   "metadata": {
    "ExecuteTime": {
     "end_time": "2025-03-01T16:49:18.359591Z",
     "start_time": "2025-03-01T16:49:18.343225Z"
    }
   },
   "source": [
    "# l1 = [1,2,3,4]\n",
    "l1.append(1)\n",
    "print(l1)"
   ],
   "outputs": [
    {
     "name": "stdout",
     "output_type": "stream",
     "text": [
      "[1, 2, 3, 4, 1]\n"
     ]
    }
   ],
   "execution_count": 19
  },
  {
   "cell_type": "markdown",
   "id": "1812e852",
   "metadata": {},
   "source": [
    "\n",
    "Extend a list with elements from another list using the extend() method.\n"
   ]
  },
  {
   "cell_type": "code",
   "id": "375a8ac2",
   "metadata": {
    "ExecuteTime": {
     "end_time": "2025-03-01T16:49:30.422087Z",
     "start_time": "2025-03-01T16:49:30.407961Z"
    }
   },
   "source": [
    "# l1 = [1,2,3,4]\n",
    "# l2 = [5,6,7,8]\n",
    "l1.extend(l2)\n",
    "print(l1)"
   ],
   "outputs": [
    {
     "name": "stdout",
     "output_type": "stream",
     "text": [
      "[1, 2, 3, 4, 1, 5, 6, 7, 8]\n"
     ]
    }
   ],
   "execution_count": 20
  },
  {
   "cell_type": "markdown",
   "id": "b4285741",
   "metadata": {},
   "source": [
    "Insert an element at a specific index in a list using the insert() method."
   ]
  },
  {
   "cell_type": "code",
   "id": "5e5b2a93",
   "metadata": {
    "ExecuteTime": {
     "end_time": "2025-03-01T16:50:07.424119Z",
     "start_time": "2025-03-01T16:50:07.409018Z"
    }
   },
   "source": [
    "l1.insert(4,\"zain\")\n",
    "print(l1)"
   ],
   "outputs": [
    {
     "name": "stdout",
     "output_type": "stream",
     "text": [
      "[1, 2, 3, 4, 'zain', 1, 5, 6, 7, 8]\n"
     ]
    }
   ],
   "execution_count": 21
  },
  {
   "cell_type": "markdown",
   "id": "5926ef7b",
   "metadata": {},
   "source": [
    " Remove the last element from a list using the pop() method.\n",
    "\n"
   ]
  },
  {
   "cell_type": "code",
   "id": "4e3c8c6d",
   "metadata": {
    "ExecuteTime": {
     "end_time": "2025-03-01T16:50:11.491413Z",
     "start_time": "2025-03-01T16:50:11.478149Z"
    }
   },
   "source": [
    "l1.pop()\n",
    "print(l1)"
   ],
   "outputs": [
    {
     "name": "stdout",
     "output_type": "stream",
     "text": [
      "[1, 2, 3, 4, 'zain', 1, 5, 6, 7]\n"
     ]
    }
   ],
   "execution_count": 22
  },
  {
   "cell_type": "markdown",
   "id": "34faaad1",
   "metadata": {},
   "source": [
    "Remove a specific element from a list using the remove() method.\n"
   ]
  },
  {
   "cell_type": "code",
   "id": "2706c63d",
   "metadata": {
    "ExecuteTime": {
     "end_time": "2025-03-01T16:50:14.119832Z",
     "start_time": "2025-03-01T16:50:14.109756Z"
    }
   },
   "source": [
    "l1.remove('zain')\n",
    "print(l1)"
   ],
   "outputs": [
    {
     "name": "stdout",
     "output_type": "stream",
     "text": [
      "[1, 2, 3, 4, 1, 5, 6, 7]\n"
     ]
    }
   ],
   "execution_count": 23
  },
  {
   "cell_type": "markdown",
   "id": "b066a57c",
   "metadata": {},
   "source": [
    "Clear all elements from a list.\n"
   ]
  },
  {
   "cell_type": "code",
   "id": "a4cb30f8",
   "metadata": {
    "ExecuteTime": {
     "end_time": "2025-03-01T16:50:17.257225Z",
     "start_time": "2025-03-01T16:50:17.241785Z"
    }
   },
   "source": [
    "l1.clear()\n",
    "print(l1)"
   ],
   "outputs": [
    {
     "name": "stdout",
     "output_type": "stream",
     "text": [
      "[]\n"
     ]
    }
   ],
   "execution_count": 24
  },
  {
   "cell_type": "markdown",
   "id": "f9d4754d",
   "metadata": {},
   "source": [
    "Delete an element at a specific index using the del statement."
   ]
  },
  {
   "cell_type": "code",
   "id": "adbc06c2",
   "metadata": {
    "ExecuteTime": {
     "end_time": "2025-03-01T16:50:22.181516Z",
     "start_time": "2025-03-01T16:50:22.167417Z"
    }
   },
   "source": [
    "l3 = [1,2,3,4,5]\n",
    "del l3[3]\n",
    "print(l3)"
   ],
   "outputs": [
    {
     "name": "stdout",
     "output_type": "stream",
     "text": [
      "[1, 2, 3, 5]\n"
     ]
    }
   ],
   "execution_count": 25
  },
  {
   "cell_type": "markdown",
   "id": "6fda5133",
   "metadata": {},
   "source": [
    "Convert a string to a list of characters and vice-versa."
   ]
  },
  {
   "cell_type": "code",
   "id": "7c9fe1dc",
   "metadata": {
    "ExecuteTime": {
     "end_time": "2025-03-01T16:52:50.555Z",
     "start_time": "2025-03-01T16:52:50.547615Z"
    }
   },
   "source": [
    "str = 'I am learning python'\n",
    "print(str)\n",
    "str_to_list = list(str)\n",
    "print(str_to_list)\n",
    "\n",
    "list_to_str = ''.join(str_to_list)\n",
    "print(list_to_str)\n",
    "\n"
   ],
   "outputs": [
    {
     "name": "stdout",
     "output_type": "stream",
     "text": [
      "I am learning python\n",
      "['I', ' ', 'a', 'm', ' ', 'l', 'e', 'a', 'r', 'n', 'i', 'n', 'g', ' ', 'p', 'y', 't', 'h', 'o', 'n']\n",
      "I am learning python\n"
     ]
    }
   ],
   "execution_count": 30
  },
  {
   "metadata": {},
   "cell_type": "markdown",
   "source": "Sort a list in ascending order using the sort() method.",
   "id": "a3674a84b0f0c79b"
  },
  {
   "metadata": {
    "ExecuteTime": {
     "end_time": "2025-03-01T16:53:17.785075Z",
     "start_time": "2025-03-01T16:53:17.768104Z"
    }
   },
   "cell_type": "code",
   "source": [
    "list_4 = [3,4,5,2,1,6,4,3]\n",
    "list_4.sort()\n",
    "print(list_4)"
   ],
   "id": "569c632ab4a2a188",
   "outputs": [
    {
     "name": "stdout",
     "output_type": "stream",
     "text": [
      "[1, 2, 3, 3, 4, 4, 5, 6]\n"
     ]
    }
   ],
   "execution_count": 31
  },
  {
   "metadata": {},
   "cell_type": "markdown",
   "source": [
    "\n",
    "Sort a list in descending order using the sort() method.\n"
   ],
   "id": "df6cde45d088af2"
  },
  {
   "cell_type": "code",
   "id": "8a1c1820",
   "metadata": {
    "ExecuteTime": {
     "end_time": "2025-03-01T16:55:26.919130Z",
     "start_time": "2025-03-01T16:55:26.904463Z"
    }
   },
   "source": [
    "list_4.sort(reverse=True)\n",
    "print(list_4)"
   ],
   "outputs": [
    {
     "name": "stdout",
     "output_type": "stream",
     "text": [
      "[6, 5, 4, 4, 3, 3, 2, 1]\n"
     ]
    }
   ],
   "execution_count": 33
  },
  {
   "cell_type": "markdown",
   "id": "04c5419a",
   "metadata": {},
   "source": [
    "Reverse the order of a list using the reverse() method.\n"
   ]
  },
  {
   "cell_type": "code",
   "id": "f0eac28f",
   "metadata": {
    "ExecuteTime": {
     "end_time": "2025-03-01T14:00:25.062509Z",
     "start_time": "2025-03-01T14:00:25.054433Z"
    }
   },
   "source": [
    "list_4.reverse()\n",
    "print(list_4)"
   ],
   "outputs": [
    {
     "name": "stdout",
     "output_type": "stream",
     "text": [
      "[1, 2, 3, 3, 4, 4, 5, 6]\n"
     ]
    }
   ],
   "execution_count": 17
  },
  {
   "cell_type": "markdown",
   "id": "ea816319",
   "metadata": {},
   "source": [
    "Check if an element is present in a list using the in operator.\n"
   ]
  },
  {
   "cell_type": "code",
   "id": "db2e8041",
   "metadata": {
    "ExecuteTime": {
     "end_time": "2025-03-01T16:57:15.879893Z",
     "start_time": "2025-03-01T16:57:15.865338Z"
    }
   },
   "source": [
    "print(4 in list_4)\n",
    "print(22 in list_4)"
   ],
   "outputs": [
    {
     "name": "stdout",
     "output_type": "stream",
     "text": [
      "True\n",
      "False\n"
     ]
    }
   ],
   "execution_count": 34
  },
  {
   "cell_type": "markdown",
   "id": "f17e9e0a",
   "metadata": {},
   "source": [
    "Compare two lists to see if they are equal in both value and identity.\n"
   ]
  },
  {
   "cell_type": "code",
   "id": "cc5763b1",
   "metadata": {
    "ExecuteTime": {
     "end_time": "2025-03-01T16:57:18.360555Z",
     "start_time": "2025-03-01T16:57:18.344728Z"
    }
   },
   "source": [
    "l5 = [1,2,3,4,5]\n",
    "l6 = [1,2,3,4,5]\n",
    "\n",
    "l7 = [1,2,3,4,5]\n",
    "l8 = [1,2,3,5,4]\n",
    "\n",
    "print(l5 == l6)\n",
    "print(l7 == l8)\n"
   ],
   "outputs": [
    {
     "name": "stdout",
     "output_type": "stream",
     "text": [
      "True\n",
      "False\n"
     ]
    }
   ],
   "execution_count": 35
  },
  {
   "cell_type": "markdown",
   "id": "19d815f3",
   "metadata": {},
   "source": [
    "Create a shallow copy of a list and modify one of the lists to observe the effects on the other.\n"
   ]
  },
  {
   "cell_type": "code",
   "execution_count": null,
   "id": "92979606",
   "metadata": {},
   "outputs": [],
   "source": ""
  },
  {
   "cell_type": "markdown",
   "id": "6c8f1702",
   "metadata": {},
   "source": [
    "Create a deep copy of a nested list and modify one of the lists to observe the effects on the other."
   ]
  },
  {
   "cell_type": "code",
   "execution_count": null,
   "id": "87a8af6d",
   "metadata": {},
   "outputs": [],
   "source": []
  },
  {
   "cell_type": "markdown",
   "id": "c52154a0",
   "metadata": {},
   "source": [
    "Pickle and Unpickle a list and display its content."
   ]
  },
  {
   "cell_type": "code",
   "execution_count": null,
   "id": "2c97aff5",
   "metadata": {},
   "outputs": [],
   "source": []
  },
  {
   "cell_type": "code",
   "execution_count": null,
   "id": "9415e114",
   "metadata": {},
   "outputs": [],
   "source": []
  }
 ],
 "metadata": {
  "kernelspec": {
   "display_name": "Python 3 (ipykernel)",
   "language": "python",
   "name": "python3"
  },
  "language_info": {
   "codemirror_mode": {
    "name": "ipython",
    "version": 3
   },
   "file_extension": ".py",
   "mimetype": "text/x-python",
   "name": "python",
   "nbconvert_exporter": "python",
   "pygments_lexer": "ipython3",
   "version": "3.10.13"
  }
 },
 "nbformat": 4,
 "nbformat_minor": 5
}
