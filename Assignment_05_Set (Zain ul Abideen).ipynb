{
 "cells": [
  {
   "cell_type": "markdown",
   "id": "a97576a6",
   "metadata": {},
   "source": [
    "### Assignment-05 (SET)\n",
    "- Change the notebook name with your name and Roll Number.\n",
    "- Try this as your own, no chatgpt (it's for your learning)\n",
    "- after completing the assignment, submit this book on google class room."
   ]
  },
  {
   "cell_type": "markdown",
   "id": "d1ddf3da",
   "metadata": {},
   "source": [
    "    Create an empty set and print it.\n",
    "  "
   ]
  },
  {
   "cell_type": "code",
   "id": "c9e9db1e",
   "metadata": {
    "ExecuteTime": {
     "end_time": "2025-02-27T14:21:59.578787Z",
     "start_time": "2025-02-27T14:21:59.565480Z"
    }
   },
   "source": [
    "emp_set = set()\n",
    "print(emp_set)\n"
   ],
   "outputs": [
    {
     "name": "stdout",
     "output_type": "stream",
     "text": [
      "set()\n"
     ]
    }
   ],
   "execution_count": 1
  },
  {
   "cell_type": "markdown",
   "id": "eeb8fb4d",
   "metadata": {},
   "source": [
    "  Create a set of your favorite colors and print it.\n"
   ]
  },
  {
   "cell_type": "code",
   "id": "d8867e41",
   "metadata": {
    "ExecuteTime": {
     "end_time": "2025-02-27T14:23:29.142035Z",
     "start_time": "2025-02-27T14:23:29.126750Z"
    }
   },
   "source": [
    "colors ={'purple','yellow','green','black'}\n",
    "print(colors)"
   ],
   "outputs": [
    {
     "name": "stdout",
     "output_type": "stream",
     "text": [
      "{'black', 'purple', 'yellow', 'green'}\n"
     ]
    }
   ],
   "execution_count": 2
  },
  {
   "cell_type": "markdown",
   "id": "5e724df6",
   "metadata": {},
   "source": [
    "    Create a set that includes a mix of data types (integers, strings, floats)."
   ]
  },
  {
   "cell_type": "code",
   "id": "e496901a",
   "metadata": {
    "ExecuteTime": {
     "end_time": "2025-03-01T16:26:55.977013Z",
     "start_time": "2025-03-01T16:26:55.968997Z"
    }
   },
   "source": [
    "mix_set ={0,1,9,3.5,9.9,'zain'}\n",
    "print(mix_set)"
   ],
   "outputs": [
    {
     "name": "stdout",
     "output_type": "stream",
     "text": [
      "{0, 1, 3.5, 'zain', 9.9, 9}\n"
     ]
    }
   ],
   "execution_count": 2
  },
  {
   "cell_type": "markdown",
   "id": "d2b80125",
   "metadata": {},
   "source": [
    "Access the elements of a set using a loop and print each element."
   ]
  },
  {
   "cell_type": "code",
   "id": "3ceec096",
   "metadata": {
    "ExecuteTime": {
     "end_time": "2025-03-01T16:27:49.176627Z",
     "start_time": "2025-03-01T16:27:49.165200Z"
    }
   },
   "source": [
    "for i in mix_set:\n",
    "    print(i)\n"
   ],
   "outputs": [
    {
     "name": "stdout",
     "output_type": "stream",
     "text": [
      "0\n",
      "1\n",
      "3.5\n",
      "zain\n",
      "9.9\n",
      "9\n"
     ]
    }
   ],
   "execution_count": 5
  },
  {
   "cell_type": "markdown",
   "id": "08fdccf7",
   "metadata": {},
   "source": [
    "add a new element to a set using the add() method."
   ]
  },
  {
   "cell_type": "code",
   "id": "5d5273f9",
   "metadata": {
    "ExecuteTime": {
     "end_time": "2025-03-01T16:28:08.974220Z",
     "start_time": "2025-03-01T16:28:08.966048Z"
    }
   },
   "source": [
    "mix_set.add(10)\n",
    "print(mix_set)"
   ],
   "outputs": [
    {
     "name": "stdout",
     "output_type": "stream",
     "text": [
      "{0, 1, 3.5, 'zain', 9.9, 10, 9}\n"
     ]
    }
   ],
   "execution_count": 6
  },
  {
   "cell_type": "markdown",
   "id": "c8257b4c",
   "metadata": {},
   "source": [
    "Add multiple elements to a set using the update() method."
   ]
  },
  {
   "cell_type": "code",
   "id": "d3fe8634",
   "metadata": {
    "ExecuteTime": {
     "end_time": "2025-03-01T16:28:14.408266Z",
     "start_time": "2025-03-01T16:28:14.392038Z"
    }
   },
   "source": [
    "mix_set.update({11,12,15,18})\n",
    "print(mix_set)"
   ],
   "outputs": [
    {
     "name": "stdout",
     "output_type": "stream",
     "text": [
      "{0, 1, 3.5, 'zain', 9.9, 10, 9, 11, 12, 15, 18}\n"
     ]
    }
   ],
   "execution_count": 7
  },
  {
   "cell_type": "markdown",
   "id": "e8adbe50",
   "metadata": {},
   "source": [
    "Remove and return an arbitrary element from a set using the pop() method."
   ]
  },
  {
   "cell_type": "code",
   "id": "bfdcad15",
   "metadata": {
    "ExecuteTime": {
     "end_time": "2025-03-01T16:28:21.712791Z",
     "start_time": "2025-03-01T16:28:21.704408Z"
    }
   },
   "source": [
    "print(mix_set.pop())\n",
    "print(mix_set)"
   ],
   "outputs": [
    {
     "name": "stdout",
     "output_type": "stream",
     "text": [
      "0\n",
      "{1, 3.5, 'zain', 9.9, 10, 9, 11, 12, 15, 18}\n"
     ]
    }
   ],
   "execution_count": 8
  },
  {
   "cell_type": "markdown",
   "id": "6bacfc71",
   "metadata": {},
   "source": [
    "Remove a specific element from a set using the remove() method."
   ]
  },
  {
   "cell_type": "code",
   "id": "d7d4d697",
   "metadata": {
    "ExecuteTime": {
     "end_time": "2025-03-01T16:28:28.033718Z",
     "start_time": "2025-03-01T16:28:28.020116Z"
    }
   },
   "source": [
    "mix_set.remove(1)\n",
    "print(mix_set)"
   ],
   "outputs": [
    {
     "name": "stdout",
     "output_type": "stream",
     "text": [
      "{3.5, 'zain', 9.9, 10, 9, 11, 12, 15, 18}\n"
     ]
    }
   ],
   "execution_count": 9
  },
  {
   "cell_type": "markdown",
   "id": "1844da3c",
   "metadata": {},
   "source": [
    "Remove a specific element from a set using the discard() method."
   ]
  },
  {
   "cell_type": "code",
   "id": "36164bf7",
   "metadata": {
    "ExecuteTime": {
     "end_time": "2025-03-01T16:29:08.263139Z",
     "start_time": "2025-03-01T16:29:08.251584Z"
    }
   },
   "source": [
    "mix_set.discard(9.9)\n",
    "print(mix_set)"
   ],
   "outputs": [
    {
     "name": "stdout",
     "output_type": "stream",
     "text": [
      "{3.5, 'zain', 10, 9, 11, 12, 15, 18}\n"
     ]
    }
   ],
   "execution_count": 10
  },
  {
   "cell_type": "markdown",
   "id": "8bd3aadb",
   "metadata": {},
   "source": [
    "Convert a string to a set of unique characters."
   ]
  },
  {
   "cell_type": "code",
   "id": "5d135ac7",
   "metadata": {
    "ExecuteTime": {
     "end_time": "2025-03-01T16:31:18.156682Z",
     "start_time": "2025-03-01T16:31:18.147578Z"
    }
   },
   "source": [
    "st = \"Narmagomedov\"\n",
    "st_to_set = set(st)\n",
    "print(st_to_set)"
   ],
   "outputs": [
    {
     "name": "stdout",
     "output_type": "stream",
     "text": [
      "{'o', 'd', 'r', 'm', 'N', 'e', 'a', 'g', 'v'}\n"
     ]
    }
   ],
   "execution_count": 12
  },
  {
   "cell_type": "markdown",
   "id": "6c622821",
   "metadata": {},
   "source": [
    "Convert a set of characters to a string."
   ]
  },
  {
   "cell_type": "code",
   "id": "fb3156ac",
   "metadata": {
    "ExecuteTime": {
     "end_time": "2025-03-01T16:34:07.808650Z",
     "start_time": "2025-03-01T16:34:07.790974Z"
    }
   },
   "source": [
    "set_to_str = ''.join(st_to_set)\n",
    "print(set_to_str)"
   ],
   "outputs": [
    {
     "name": "stdout",
     "output_type": "stream",
     "text": [
      "odrmNeagv\n"
     ]
    }
   ],
   "execution_count": 16
  },
  {
   "cell_type": "markdown",
   "id": "9a426c8f",
   "metadata": {},
   "source": [
    "Use the clear() method to remove all elements from a set."
   ]
  },
  {
   "cell_type": "code",
   "id": "88a65643",
   "metadata": {
    "ExecuteTime": {
     "end_time": "2025-03-01T16:35:08.980891Z",
     "start_time": "2025-03-01T16:35:08.972582Z"
    }
   },
   "source": [
    "mix_set.clear()\n",
    "print(mix_set)"
   ],
   "outputs": [
    {
     "name": "stdout",
     "output_type": "stream",
     "text": [
      "set()\n"
     ]
    }
   ],
   "execution_count": 17
  },
  {
   "cell_type": "markdown",
   "id": "9edea94d",
   "metadata": {},
   "source": [
    "Use the copy() method to create a shallow copy of a set."
   ]
  },
  {
   "cell_type": "code",
   "execution_count": null,
   "id": "eb4e0b56",
   "metadata": {},
   "outputs": [],
   "source": []
  },
  {
   "cell_type": "markdown",
   "id": "cd9c69f0",
   "metadata": {},
   "source": [
    "Use the difference() method to find the difference between two sets."
   ]
  },
  {
   "cell_type": "code",
   "id": "2f816d0f",
   "metadata": {
    "ExecuteTime": {
     "end_time": "2025-03-01T16:35:18.804325Z",
     "start_time": "2025-03-01T16:35:18.795007Z"
    }
   },
   "source": [
    "s1 = {1,2,3,4,5,6}\n",
    "s2 = {4,5,6,7,8,9}\n",
    "\n",
    "print(s2.difference(s1))"
   ],
   "outputs": [
    {
     "name": "stdout",
     "output_type": "stream",
     "text": [
      "{8, 9, 7}\n"
     ]
    }
   ],
   "execution_count": 18
  },
  {
   "cell_type": "markdown",
   "id": "307c3f1a",
   "metadata": {},
   "source": [
    "Create two sets and find their union."
   ]
  },
  {
   "cell_type": "code",
   "id": "fac5a114",
   "metadata": {
    "ExecuteTime": {
     "end_time": "2025-03-01T16:35:23.418335Z",
     "start_time": "2025-03-01T16:35:23.405873Z"
    }
   },
   "source": [
    "# s1 = {1,2,3,4,5,6}\n",
    "# s2 = {4,5,6,7,8,9}\n",
    "\n",
    "print(s1.union(s2))"
   ],
   "outputs": [
    {
     "name": "stdout",
     "output_type": "stream",
     "text": [
      "{1, 2, 3, 4, 5, 6, 7, 8, 9}\n"
     ]
    }
   ],
   "execution_count": 19
  },
  {
   "cell_type": "markdown",
   "id": "eaf6ba0c",
   "metadata": {},
   "source": [
    "    Create two sets and find their intersection.\n",
    "   "
   ]
  },
  {
   "cell_type": "code",
   "id": "1169662c",
   "metadata": {
    "ExecuteTime": {
     "end_time": "2025-03-01T16:35:43.146387Z",
     "start_time": "2025-03-01T16:35:43.133239Z"
    }
   },
   "source": [
    "# s1 = {1,2,3,4,5,6}\n",
    "# s2 = {4,5,6,7,8,9}\n",
    "\n",
    "print(s1.intersection(s2))"
   ],
   "outputs": [
    {
     "name": "stdout",
     "output_type": "stream",
     "text": [
      "{4, 5, 6}\n"
     ]
    }
   ],
   "execution_count": 20
  },
  {
   "cell_type": "markdown",
   "id": "859e1d7f",
   "metadata": {},
   "source": [
    " Create two sets and find their difference.\n"
   ]
  },
  {
   "cell_type": "code",
   "id": "681f05e6",
   "metadata": {
    "ExecuteTime": {
     "end_time": "2025-03-01T16:36:14.452920Z",
     "start_time": "2025-03-01T16:36:14.440648Z"
    }
   },
   "source": [
    "# s1 = {1,2,3,4,5,6}\n",
    "# s2 = {4,5,6,7,8,9}\n",
    "\n",
    "print(s1.difference(s2))\n",
    "print(s2.difference(s1))"
   ],
   "outputs": [
    {
     "name": "stdout",
     "output_type": "stream",
     "text": [
      "{1, 2, 3}\n",
      "{8, 9, 7}\n"
     ]
    }
   ],
   "execution_count": 21
  },
  {
   "cell_type": "markdown",
   "id": "b1c839f5",
   "metadata": {},
   "source": [
    "    Create two sets and find their symmetric difference."
   ]
  },
  {
   "cell_type": "code",
   "id": "c2695bb7",
   "metadata": {
    "ExecuteTime": {
     "end_time": "2025-03-01T16:37:22.554557Z",
     "start_time": "2025-03-01T16:37:22.540877Z"
    }
   },
   "source": [
    "# s1 = {1,2,3,4,5,6}\n",
    "# s2 = {4,5,6,7,8,9}\n",
    "print(s1.symmetric_difference(s2))"
   ],
   "outputs": [
    {
     "name": "stdout",
     "output_type": "stream",
     "text": [
      "{1, 2, 3, 7, 8, 9}\n"
     ]
    }
   ],
   "execution_count": 24
  },
  {
   "cell_type": "markdown",
   "id": "41933917",
   "metadata": {},
   "source": [
    "Check if one set is a subset of another."
   ]
  },
  {
   "cell_type": "code",
   "id": "fc3d1fd0",
   "metadata": {
    "ExecuteTime": {
     "end_time": "2025-03-01T16:38:52.182847Z",
     "start_time": "2025-03-01T16:38:52.164221Z"
    }
   },
   "source": [
    "set1 = {1,2,3,4,5,6}\n",
    "set2 = {1,2,3,4,5,6,7,8,9}\n",
    "\n",
    "print(set1.issubset(set2))\n",
    "print(set2.issubset(set1))"
   ],
   "outputs": [
    {
     "name": "stdout",
     "output_type": "stream",
     "text": [
      "True\n",
      "False\n"
     ]
    }
   ],
   "execution_count": 25
  },
  {
   "cell_type": "markdown",
   "id": "65174e5c",
   "metadata": {},
   "source": [
    "    Check if one set is a superset of another.\n"
   ]
  },
  {
   "cell_type": "code",
   "id": "cc34dbf9",
   "metadata": {
    "ExecuteTime": {
     "end_time": "2025-03-01T16:39:17.065459Z",
     "start_time": "2025-03-01T16:39:17.051622Z"
    }
   },
   "source": [
    "# set1 = {1,2,3,4,5,6}\n",
    "# set2 = {1,2,3,4,5,6,7,8,9}\n",
    "\n",
    "print(set1.issuperset(set2))\n",
    "print(set2.issuperset(set1))"
   ],
   "outputs": [
    {
     "name": "stdout",
     "output_type": "stream",
     "text": [
      "False\n",
      "True\n"
     ]
    }
   ],
   "execution_count": 26
  },
  {
   "cell_type": "markdown",
   "id": "e8b05467",
   "metadata": {},
   "source": [
    "    Check if two sets are disjoint (have no common elements)."
   ]
  },
  {
   "cell_type": "code",
   "id": "f5e84a48",
   "metadata": {
    "ExecuteTime": {
     "end_time": "2025-03-01T16:40:08.668193Z",
     "start_time": "2025-03-01T16:40:08.659061Z"
    }
   },
   "source": [
    "# set1 = {1,2,3,4,5,6}\n",
    "# set2 = {1,2,3,4,5,6,7,8,9}\n",
    "\n",
    "print(set1.isdisjoint(set2))\n",
    "print(set2.isdisjoint(set1))"
   ],
   "outputs": [
    {
     "name": "stdout",
     "output_type": "stream",
     "text": [
      "False\n",
      "False\n"
     ]
    }
   ],
   "execution_count": 27
  },
  {
   "metadata": {},
   "cell_type": "code",
   "outputs": [],
   "execution_count": null,
   "source": "",
   "id": "249734cad988bc29"
  }
 ],
 "metadata": {
  "kernelspec": {
   "display_name": "Python 3 (ipykernel)",
   "language": "python",
   "name": "python3"
  },
  "language_info": {
   "codemirror_mode": {
    "name": "ipython",
    "version": 3
   },
   "file_extension": ".py",
   "mimetype": "text/x-python",
   "name": "python",
   "nbconvert_exporter": "python",
   "pygments_lexer": "ipython3",
   "version": "3.9.12"
  }
 },
 "nbformat": 4,
 "nbformat_minor": 5
}
