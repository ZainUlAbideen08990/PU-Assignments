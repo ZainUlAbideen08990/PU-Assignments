{
 "cells": [
  {
   "cell_type": "code",
   "execution_count": null,
   "id": "e897a2fd-0811-4f39-89cb-39ca1f588dc2",
   "metadata": {},
   "outputs": [
    {
     "name": "stdout",
     "output_type": "stream",
     "text": [
      "Welcome to my basic Python Calculator\n",
      "\n"
     ]
    }
   ],
   "source": [
    "print(\"Welcome to my basic Python Calculator\\n\")\n",
    "def cal(): \n",
    "\n",
    "    num = input(\"Enter the values you want to calculate in the form 'A + B': \")\n",
    "\n",
    "    if '*' in num:\n",
    "        a,b = num.split('*')\n",
    "        operator = '*'\n",
    "    elif '+' in num:\n",
    "        a,b = num.split('+')\n",
    "        operator = '+'\n",
    "    elif '-' in num:\n",
    "        a,b = num.split('-')\n",
    "        operator = '-'\n",
    "    elif '/' in num:\n",
    "        a,b = num.split('/')\n",
    "        operator = '/'\n",
    "    else:\n",
    "        print(\"Enter a valid operator\")\n",
    "\n",
    "\n",
    "    a1 = float(a)\n",
    "    b1 = float(b)\n",
    "\n",
    "    if operator == '+':\n",
    "        r = a1 + b1\n",
    "        print(int(r) if r%1==0 else r)\n",
    "    elif operator == '*':\n",
    "        r = a1 * b1\n",
    "        print(int(r) if r%1==0 else r)\n",
    "    elif operator == '-':\n",
    "        r = a1 - b1\n",
    "        print(int(r) if r%1==0 else r)\n",
    "    elif operator == '/':\n",
    "        r = a1/b1\n",
    "        print(int(r) if r%1==0 else round(r,2))\n",
    "    \n",
    "    return cal()\n",
    "    \n",
    "    # y=(input(\"You want to calculate another value?\"))\n",
    "    # if y == \"yes\" or y == \"Yes\" or y == \"YES\" or y == \"Y\" or y == \"y\":\n",
    "    #     return cal()\n",
    "    # elif y == \"no\" or y == \"No\" or y == \"NO\" or y == \"N\" or y == \"n\":\n",
    "    #     print(\"Thankyou for using my basic Python Calculator\\nGood Bye!\")\n",
    "    #     return\"\"\n",
    "    # else:\n",
    "    #     print(\"You didn't enter a valid response\\nGood Bye!\")\n",
    "    #     return\"\"\n",
    "print(cal())\n",
    "\n"
   ]
  },
  {
   "cell_type": "code",
   "execution_count": null,
   "id": "2c59869c-1a9e-4302-94e7-f0b0d099c130",
   "metadata": {},
   "outputs": [],
   "source": []
  }
 ],
 "metadata": {
  "kernelspec": {
   "display_name": "Python [conda env:base] *",
   "language": "python",
   "name": "conda-base-py"
  },
  "language_info": {
   "codemirror_mode": {
    "name": "ipython",
    "version": 3
   },
   "file_extension": ".py",
   "mimetype": "text/x-python",
   "name": "python",
   "nbconvert_exporter": "python",
   "pygments_lexer": "ipython3",
   "version": "3.12.7"
  }
 },
 "nbformat": 4,
 "nbformat_minor": 5
}
